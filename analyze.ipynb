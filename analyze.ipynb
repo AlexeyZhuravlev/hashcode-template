{
 "cells": [
  {
   "cell_type": "code",
   "execution_count": null,
   "metadata": {},
   "outputs": [],
   "source": [
    "import os\n",
    "import pandas as pd\n",
    "import numpy as np\n",
    "import matplotlib.pyplot as plt\n",
    "%matplotlib inline\n",
    "from IPython.display import display\n",
    "from collections import Counter\n",
    "\n",
    "\n",
    "def analyze_file(f):\n",
    "    return max_score\n",
    "\n",
    "    \n",
    "def analyze():\n",
    "    max_scores = {}\n",
    "    for filename in sorted(os.listdir(\"test\")):\n",
    "        if filename.endswith(\".in\"):\n",
    "            with open(os.path.join('test', filename)) as f:\n",
    "                print(\"-\" * 30)\n",
    "                print(\"Stats for {}\".format(filename))\n",
    "                max_score = analyze_file(f)\n",
    "                max_scores[filename.split('.')[0]] = max_score\n",
    "                print('\\n'*2)\n",
    "                \n",
    "    print(\"DISRIBUTION OF SCORES BETWEEN TESTS:\")\n",
    "    sum_max_scores = sum(max_scores.values())\n",
    "    for k, v in max_scores.items():\n",
    "        print(k.upper(), v, \"{:.2f}%\".format(v / sum_max_scores * 100))\n",
    "\n",
    "analyze()"
   ]
  }
 ],
 "metadata": {
  "kernelspec": {
   "display_name": "Python 3.7.9",
   "language": "python",
   "name": "python3.7"
  },
  "language_info": {
   "codemirror_mode": {
    "name": "ipython",
    "version": 3
   },
   "file_extension": ".py",
   "mimetype": "text/x-python",
   "name": "python",
   "nbconvert_exporter": "python",
   "pygments_lexer": "ipython3",
   "version": "3.7.9"
  }
 },
 "nbformat": 4,
 "nbformat_minor": 4
}
